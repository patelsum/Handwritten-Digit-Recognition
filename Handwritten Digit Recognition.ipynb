{
 "cells": [
  {
   "cell_type": "markdown",
   "metadata": {},
   "source": [
    "# Guided Projects Artificial Intelligence & Machine Learning\n",
    "## Guided Projects: Supervised Learning\n",
    "### Handwritten Digit Recognition\n",
    "Digit recognition system is the working of a machine to train itself for recognizing the digits \n",
    "from different sources like emails, bank cheque, papers, images, etc. and in different real\u0002world scenarios for online handwriting recognition on computer tablets or system. \n",
    "Developing such a system includes a machine to understand and classify the images of \n",
    "handwritten digits as 10 digits (0–9). Handwritten digits from the MNIST database has \n",
    "been one of the most famous databases among the machine learning community for many \n",
    "recent decades.\n",
    "### Question:\n",
    "Use MNIST dataset to create a classifier for all the 10 digits. First implement the classifier by \n",
    "squeezing the image into a vector and then using a MLP. Now, try the same task using a \n",
    "different machine learning classifier such as an SVM to check the gain in performance by \n",
    "using perceptrons as compared to conventional machine learning techniques."
   ]
  },
  {
   "cell_type": "code",
   "execution_count": 2,
   "metadata": {},
   "outputs": [],
   "source": [
    "# Import libraries\n",
    "import matplotlib.pyplot as plt\n",
    "import numpy as np\n",
    "import tensorflow as tf\n",
    "from tensorflow.keras import Sequential\n",
    "from tensorflow.keras.callbacks import ModelCheckpoint, TensorBoard\n",
    "from tensorflow.keras.layers import Dense, Flatten, Softmax\n",
    "from sklearn.neural_network import MLPClassifier\n",
    "from sklearn.model_selection import train_test_split\n",
    "from sklearn.metrics import classification_report"
   ]
  },
  {
   "cell_type": "code",
   "execution_count": 13,
   "metadata": {},
   "outputs": [],
   "source": [
    "# Load the dataset\n",
    "mnist = tf.keras.datasets.mnist.load_data()\n",
    "(x_train, y_train), (x_test, y_test) = mnist"
   ]
  },
  {
   "cell_type": "code",
   "execution_count": 14,
   "metadata": {},
   "outputs": [
    {
     "name": "stdout",
     "output_type": "stream",
     "text": [
      "Image height x width is 28 x 28\n",
      "There are 10 classes\r\n"
     ]
    }
   ],
   "source": [
    "HEIGHT, WIDTH = x_train[0].shape\n",
    "NCLASSES = tf.size(tf.unique(y_train).y)\n",
    "print(\"Image height x width is\", HEIGHT, \"x\", WIDTH)\n",
    "tf.print(\"There are\", NCLASSES, \"classes\")"
   ]
  },
  {
   "cell_type": "code",
   "execution_count": 15,
   "metadata": {},
   "outputs": [
    {
     "name": "stdout",
     "output_type": "stream",
     "text": [
      "The label for image number 12 is 9\n"
     ]
    },
    {
     "data": {
      "image/png": "[encoded data removed]",
      "text/plain": [
       "<Figure size 432x288 with 1 Axes>"
      ]
     },
     "metadata": {
      "needs_background": "light"
     },
     "output_type": "display_data"
    }
   ],
   "source": [
    "IMGNO = 12\n",
    "# Uncomment to see raw numerical values.\n",
    "# print(x_test[IMGNO])\n",
    "plt.imshow(x_test[IMGNO].reshape(HEIGHT, WIDTH));\n",
    "print(\"The label for image number\", IMGNO, \"is\", y_test[IMGNO])"
   ]
  },
  {
   "cell_type": "code",
   "execution_count": 16,
   "metadata": {},
   "outputs": [
    {
     "data": {
      "text/plain": [
       "((60000, 28, 28), (10000, 28, 28), (60000,), (10000,))"
      ]
     },
     "execution_count": 16,
     "metadata": {},
     "output_type": "execute_result"
    }
   ],
   "source": [
    "x_train.shape, x_test.shape, y_train.shape, y_test.shape"
   ]
  },
  {
   "cell_type": "code",
   "execution_count": 17,
   "metadata": {},
   "outputs": [],
   "source": [
    "x_train = x_train.reshape(len(x_train), 784)\n",
    "x_test = x_test.reshape(len(x_test), 784)"
   ]
  },
  {
   "cell_type": "code",
   "execution_count": 18,
   "metadata": {},
   "outputs": [
    {
     "name": "stdout",
     "output_type": "stream",
     "text": [
      "Iteration 1, loss = 1.35578617\n",
      "Validation score: 0.916000\n",
      "Iteration 2, loss = 0.25114493\n",
      "Validation score: 0.939167\n",
      "Iteration 3, loss = 0.13670175\n",
      "Validation score: 0.955333\n",
      "Iteration 4, loss = 0.10572811\n",
      "Validation score: 0.956167\n",
      "Iteration 5, loss = 0.09063741\n",
      "Validation score: 0.957500\n",
      "Iteration 6, loss = 0.08551972\n",
      "Validation score: 0.957833\n",
      "Iteration 7, loss = 0.09162654\n",
      "Validation score: 0.961167\n",
      "Iteration 8, loss = 0.08187283\n",
      "Validation score: 0.964667\n",
      "Iteration 9, loss = 0.07677432\n",
      "Validation score: 0.963833\n",
      "Iteration 10, loss = 0.06889545\n",
      "Validation score: 0.959333\n",
      "Iteration 11, loss = 0.06806410\n",
      "Validation score: 0.966500\n",
      "Iteration 12, loss = 0.07094451\n",
      "Validation score: 0.964333\n",
      "Iteration 13, loss = 0.05726011\n",
      "Validation score: 0.968500\n",
      "Iteration 14, loss = 0.05392374\n",
      "Validation score: 0.964667\n",
      "Iteration 15, loss = 0.05469960\n",
      "Validation score: 0.968667\n",
      "Iteration 16, loss = 0.04706233\n",
      "Validation score: 0.971667\n",
      "Iteration 17, loss = 0.03975372\n",
      "Validation score: 0.971500\n",
      "Iteration 18, loss = 0.04332697\n",
      "Validation score: 0.972167\n",
      "Iteration 19, loss = 0.04100549\n",
      "Validation score: 0.970333\n",
      "Iteration 20, loss = 0.02788738\n",
      "Validation score: 0.970667\n",
      "Iteration 21, loss = 0.03966391\n",
      "Validation score: 0.970000\n",
      "Iteration 22, loss = 0.03673435\n",
      "Validation score: 0.973667\n",
      "Iteration 23, loss = 0.02785671\n",
      "Validation score: 0.971667\n",
      "Iteration 24, loss = 0.02644123\n",
      "Validation score: 0.973000\n",
      "Iteration 25, loss = 0.02823194\n",
      "Validation score: 0.974000\n",
      "Iteration 26, loss = 0.03426657\n",
      "Validation score: 0.973167\n",
      "Iteration 27, loss = 0.02232446\n",
      "Validation score: 0.975667\n",
      "Iteration 28, loss = 0.01739037\n",
      "Validation score: 0.973167\n",
      "Iteration 29, loss = 0.03363910\n",
      "Validation score: 0.972333\n",
      "Iteration 30, loss = 0.02031152\n",
      "Validation score: 0.974500\n",
      "Iteration 31, loss = 0.02243745\n",
      "Validation score: 0.975833\n",
      "Iteration 32, loss = 0.02137435\n",
      "Validation score: 0.973500\n",
      "Iteration 33, loss = 0.01876179\n",
      "Validation score: 0.976333\n",
      "Iteration 34, loss = 0.02365435\n",
      "Validation score: 0.972333\n",
      "Iteration 35, loss = 0.02645983\n",
      "Validation score: 0.977333\n",
      "Iteration 36, loss = 0.01546692\n",
      "Validation score: 0.979833\n",
      "Iteration 37, loss = 0.02548849\n",
      "Validation score: 0.973000\n",
      "Iteration 38, loss = 0.01557175\n",
      "Validation score: 0.974667\n",
      "Iteration 39, loss = 0.01978515\n",
      "Validation score: 0.973000\n",
      "Iteration 40, loss = 0.01969499\n",
      "Validation score: 0.970500\n",
      "Iteration 41, loss = 0.02301350\n",
      "Validation score: 0.979167\n",
      "Iteration 42, loss = 0.01248318\n",
      "Validation score: 0.976000\n",
      "Iteration 43, loss = 0.02034998\n",
      "Validation score: 0.977833\n",
      "Iteration 44, loss = 0.01492073\n",
      "Validation score: 0.975000\n",
      "Iteration 45, loss = 0.01974124\n",
      "Validation score: 0.975500\n",
      "Iteration 46, loss = 0.01630264\n",
      "Validation score: 0.976333\n",
      "Iteration 47, loss = 0.01923912\n",
      "Validation score: 0.975667\n",
      "Validation score did not improve more than tol=0.000100 for 10 consecutive epochs. Stopping.\n"
     ]
    },
    {
     "data": {
      "text/plain": [
       "MLPClassifier(batch_size=128, early_stopping=True,\n",
       "              hidden_layer_sizes=(512, 256, 128), verbose=True)"
      ]
     },
     "execution_count": 18,
     "metadata": {},
     "output_type": "execute_result"
    }
   ],
   "source": [
    "model = MLPClassifier(hidden_layer_sizes = (512, 256, 128 ), batch_size = 128, verbose = True, early_stopping = True)\n",
    "model.fit(x_train, y_train)"
   ]
  },
  {
   "cell_type": "code",
   "execution_count": 20,
   "metadata": {},
   "outputs": [
    {
     "name": "stdout",
     "output_type": "stream",
     "text": [
      "              precision    recall  f1-score   support\n",
      "\n",
      "           0       0.99      0.97      0.98       993\n",
      "           1       0.99      0.98      0.99      1150\n",
      "           2       0.97      0.98      0.97      1027\n",
      "           3       0.98      0.97      0.98      1014\n",
      "           4       0.97      0.98      0.97       969\n",
      "           5       0.97      0.98      0.98       881\n",
      "           6       0.99      0.99      0.99       958\n",
      "           7       0.96      0.98      0.97      1007\n",
      "           8       0.98      0.98      0.98       975\n",
      "           9       0.97      0.96      0.97      1026\n",
      "\n",
      "    accuracy                           0.98     10000\n",
      "   macro avg       0.98      0.98      0.98     10000\n",
      "weighted avg       0.98      0.98      0.98     10000\n",
      "\n"
     ]
    }
   ],
   "source": [
    "y_pred = model.predict(x_test)\n",
    "print(classification_report(y_pred, y_test))"
   ]
  },
  {
   "cell_type": "markdown",
   "metadata": {},
   "source": [
    "### Classification using SVM"
   ]
  },
  {
   "cell_type": "code",
   "execution_count": 21,
   "metadata": {},
   "outputs": [],
   "source": [
    "from sklearn import svm"
   ]
  },
  {
   "cell_type": "code",
   "execution_count": 22,
   "metadata": {},
   "outputs": [
    {
     "data": {
      "text/plain": [
       "SVC(decision_function_shape='ovo')"
      ]
     },
     "execution_count": 22,
     "metadata": {},
     "output_type": "execute_result"
    }
   ],
   "source": [
    "clf = svm.SVC(decision_function_shape='ovo')\n",
    "clf.fit(x_train, y_train)"
   ]
  },
  {
   "cell_type": "code",
   "execution_count": 33,
   "metadata": {},
   "outputs": [
    {
     "name": "stdout",
     "output_type": "stream",
     "text": [
      "              precision    recall  f1-score   support\n",
      "\n",
      "           0       0.99      0.98      0.99       993\n",
      "           1       0.99      0.99      0.99      1139\n",
      "           2       0.97      0.98      0.98      1031\n",
      "           3       0.99      0.97      0.98      1021\n",
      "           4       0.98      0.98      0.98       978\n",
      "           5       0.98      0.99      0.98       883\n",
      "           6       0.99      0.99      0.99       958\n",
      "           7       0.97      0.98      0.97      1021\n",
      "           8       0.98      0.97      0.97       978\n",
      "           9       0.96      0.97      0.97       998\n",
      "\n",
      "    accuracy                           0.98     10000\n",
      "   macro avg       0.98      0.98      0.98     10000\n",
      "weighted avg       0.98      0.98      0.98     10000\n",
      "\n"
     ]
    }
   ],
   "source": [
    "y_pred_svm = clf.predict(x_test)\n",
    "print(classification_report(y_pred_svm, y_test))"
   ]
  }
 ],
 "metadata": {
  "kernelspec": {
   "display_name": "Python 3",
   "language": "python",
   "name": "python3"
  },
  "language_info": {
   "codemirror_mode": {
    "name": "ipython",
    "version": 3
   },
   "file_extension": ".py",
   "mimetype": "text/x-python",
   "name": "python",
   "nbconvert_exporter": "python",
   "pygments_lexer": "ipython3",
   "version": "3.8.3"
  }
 },
 "nbformat": 4,
 "nbformat_minor": 4
}
